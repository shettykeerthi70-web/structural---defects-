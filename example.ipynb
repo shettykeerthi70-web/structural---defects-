{
 "cells": [
  {
   "cell_type": "markdown",
   "id": "f08c3035",
   "metadata": {},
   "source": [
    "## loading images in pyhton "
   ]
  },
  {
   "cell_type": "code",
   "execution_count": 12,
   "id": "9a43a26f",
   "metadata": {},
   "outputs": [
    {
     "name": "stdout",
     "output_type": "stream",
     "text": [
      "Defaulting to user installation because normal site-packages is not writeable\n",
      "Requirement already satisfied: pillow in c:\\programdata\\anaconda3\\lib\\site-packages (10.4.0)\n",
      "Note: you may need to restart the kernel to use updated packages.\n"
     ]
    }
   ],
   "source": [
    "pip install pillow"
   ]
  },
  {
   "cell_type": "code",
   "execution_count": 13,
   "id": "f538312a",
   "metadata": {},
   "outputs": [],
   "source": [
    "from PIL import Image"
   ]
  },
  {
   "cell_type": "code",
   "execution_count": 21,
   "id": "00917cfe",
   "metadata": {},
   "outputs": [],
   "source": [
    "import datetime as dt"
   ]
  },
  {
   "cell_type": "code",
   "execution_count": 22,
   "id": "83caebbf",
   "metadata": {},
   "outputs": [
    {
     "name": "stdout",
     "output_type": "stream",
     "text": [
      "<built-in method date of datetime.datetime object at 0x000001534AFAA910>\n"
     ]
    }
   ],
   "source": [
    "print(dt.datetime.now().date)"
   ]
  },
  {
   "cell_type": "code",
   "execution_count": 14,
   "id": "46e941b0",
   "metadata": {},
   "outputs": [],
   "source": [
    "image_link = r\"C:\\Users\\Keerthi Shetty\\OneDrive\\Pictures\\honecomb.jpg\""
   ]
  },
  {
   "cell_type": "code",
   "execution_count": 27,
   "id": "4ed3b8b1",
   "metadata": {},
   "outputs": [],
   "source": [
    "###rabdomness in the generated text "
   ]
  },
  {
   "cell_type": "markdown",
   "id": "5f7d6865",
   "metadata": {},
   "source": []
  },
  {
   "cell_type": "code",
   "execution_count": 15,
   "id": "b90ae8d9",
   "metadata": {},
   "outputs": [
    {
     "data": {
      "text/plain": [
       "'C:\\\\Users\\\\Keerthi Shetty\\\\OneDrive\\\\Pictures\\\\honecomb.jpg'"
      ]
     },
     "execution_count": 15,
     "metadata": {},
     "output_type": "execute_result"
    }
   ],
   "source": [
    "image_link"
   ]
  },
  {
   "cell_type": "markdown",
   "id": "94f447ce",
   "metadata": {},
   "source": [
    "##lets see if we can identify the defected area in image prompt "
   ]
  },
  {
   "cell_type": "code",
   "execution_count": 17,
   "id": "aed91165",
   "metadata": {},
   "outputs": [
    {
     "name": "stdout",
     "output_type": "stream",
     "text": [
      "Note: you may need to restart the kernel to use updated packages.\n"
     ]
    }
   ],
   "source": [
    "pip install -q google-generativeai"
   ]
  },
  {
   "cell_type": "code",
   "execution_count": 18,
   "id": "381bc27a",
   "metadata": {},
   "outputs": [],
   "source": [
    "import google.generativeai as genai\n",
    "import os"
   ]
  },
  {
   "cell_type": "code",
   "execution_count": 28,
   "id": "a31b1169",
   "metadata": {},
   "outputs": [
    {
     "name": "stdout",
     "output_type": "stream",
     "text": [
      "Why did the engineer break up with the mathematician?\n",
      "\n",
      "Because they had too many **irrational** differences!\n",
      "Why did the engineer break up with the physicist?\n",
      "\n",
      "Because they had too many **fundamental differences**!\n"
     ]
    }
   ],
   "source": [
    "genai.configure(api_key=os.getenv(\"GOOGLE_API_KEY\"))\n",
    "model=genai.GenerativeModel('gemini-2.5-flash-lite')\n",
    "print(model.generate_content('tell me a good joke on engineerg').text)\n",
    "prompt='tell one good joke on  engineering '\n",
    "response =model.generate_content(prompt, generation_config={'temperature':0.7})\n",
    "print(response.text)\n",
    "\n"
   ]
  },
  {
   "cell_type": "markdown",
   "id": "708b214b",
   "metadata": {},
   "source": [
    "methods to control randomness in the output \n",
    "\n",
    "temperature (controls the randomness and creativity)\n",
    "*0-deterministic, focused, and factual \n",
    "* 1- balanced creativity \n",
    "* greater 1- more diverse and less coherent \n",
    "\n",
    "top_p(nucleus)"
   ]
  },
  {
   "cell_type": "markdown",
   "id": "7fe18fcc",
   "metadata": {},
   "source": []
  },
  {
   "cell_type": "code",
   "execution_count": null,
   "id": "a3e52d73",
   "metadata": {},
   "outputs": [
    {
     "data": {
      "text/plain": [
       "<bound method GenerativeModel.generate_content of genai.GenerativeModel(\n",
       "    model_name='models/gemini-2.5-flash-lite',\n",
       "    generation_config={},\n",
       "    safety_settings={},\n",
       "    tools=None,\n",
       "    system_instruction=None,\n",
       "    cached_content=None\n",
       ")>"
      ]
     },
     "execution_count": 20,
     "metadata": {},
     "output_type": "execute_result"
    }
   ],
   "source": [
    "model.generate_content"
   ]
  },
  {
   "cell_type": "code",
   "execution_count": null,
   "id": "f618927e",
   "metadata": {},
   "outputs": [],
   "source": [
    "prompt='''In the uploade image. identify the defected area and mark in the image . return the image'''"
   ]
  },
  {
   "cell_type": "code",
   "execution_count": null,
   "id": "bbfc65c4",
   "metadata": {},
   "outputs": [],
   "source": [
    "response =model.generate_content([prompt,defect_image])"
   ]
  },
  {
   "cell_type": "code",
   "execution_count": 29,
   "id": "ba02a21b",
   "metadata": {},
   "outputs": [
    {
     "data": {
      "text/plain": [
       "'Why did the engineer break up with the physicist?\\n\\nBecause they had too many **fundamental differences**!'"
      ]
     },
     "execution_count": 29,
     "metadata": {},
     "output_type": "execute_result"
    }
   ],
   "source": [
    "response.text"
   ]
  },
  {
   "cell_type": "markdown",
   "id": "9aec283f",
   "metadata": {},
   "source": [
    "defining file formats in stramlit(mime)"
   ]
  },
  {
   "cell_type": "code",
   "execution_count": null,
   "id": "fd55633c",
   "metadata": {},
   "outputs": [],
   "source": [
    "mime=\n"
   ]
  }
 ],
 "metadata": {
  "kernelspec": {
   "display_name": "base",
   "language": "python",
   "name": "python3"
  },
  "language_info": {
   "codemirror_mode": {
    "name": "ipython",
    "version": 3
   },
   "file_extension": ".py",
   "mimetype": "text/x-python",
   "name": "python",
   "nbconvert_exporter": "python",
   "pygments_lexer": "ipython3",
   "version": "3.12.7"
  }
 },
 "nbformat": 4,
 "nbformat_minor": 5
}
